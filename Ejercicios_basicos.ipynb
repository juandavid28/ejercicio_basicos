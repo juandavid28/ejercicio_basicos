{
  "nbformat": 4,
  "nbformat_minor": 0,
  "metadata": {
    "colab": {
      "provenance": [],
      "toc_visible": true,
      "authorship_tag": "ABX9TyOWWgpuASVUKIidpyWxqDF7",
      "include_colab_link": true
    },
    "kernelspec": {
      "name": "python3",
      "display_name": "Python 3"
    },
    "language_info": {
      "name": "python"
    }
  },
  "cells": [
    {
      "cell_type": "markdown",
      "metadata": {
        "id": "view-in-github",
        "colab_type": "text"
      },
      "source": [
        "<a href=\"https://colab.research.google.com/github/juandavid28/ejercicio_basicos/blob/main/Ejercicios_basicos.ipynb\" target=\"_parent\"><img src=\"https://colab.research.google.com/assets/colab-badge.svg\" alt=\"Open In Colab\"/></a>"
      ]
    },
    {
      "cell_type": "markdown",
      "source": [
        "# Ejericicios basicos Python\n",
        "\n",
        "1. Suma de dos numeros\n",
        "2. Potencia de un numero"
      ],
      "metadata": {
        "id": "HfrKWECnhF9q"
      }
    },
    {
      "cell_type": "code",
      "source": [
        "# Suma de dos numreos enteros\n",
        "\n",
        "print(\"------------------------\")\n",
        "print(\"----SUMA DOS ENTEROS----\")\n",
        "print(\"------------------------\")\n",
        "\n",
        "# input \n",
        "x = int(input(\"Digite el valor de x: \"))\n",
        "y = int(input(\"Digite el valor de y: \"))\n",
        "\n",
        "# processing\n",
        "z = x + y\n",
        "\n",
        "# output\n",
        "print(\"La suma de \",x,\"+\",y,\"es\",z)"
      ],
      "metadata": {
        "id": "F4VBBG6RiDDQ"
      },
      "execution_count": null,
      "outputs": []
    }
  ]
}